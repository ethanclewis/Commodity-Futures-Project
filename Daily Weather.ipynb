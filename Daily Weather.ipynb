{
 "cells": [
  {
   "cell_type": "code",
   "execution_count": null,
   "metadata": {},
   "outputs": [],
   "source": [
    "import requests\n",
    "import openmeteo_requests\n",
    "import requests_cache\n",
    "import pandas as pd\n",
    "from retry_requests import retry\n",
    "import pymongo\n",
    "from pymongo.mongo_client import MongoClient\n",
    "import certifi"
   ]
  },
  {
   "cell_type": "code",
   "execution_count": null,
   "metadata": {},
   "outputs": [],
   "source": [
    "# 27 Cities \n",
    "coordinates = [\n",
    "    (41.587874539133864, -93.62025172344258), # De Moines, USA (x2)\n",
    "    (45.75950681140235, 126.64857767018447), # Harbin, China\n",
    "    (-15.596205293870227, -56.09191831845166), # Cuiaba, Brazil (x2)\n",
    "    (34.755190827740414, 113.64387122461706), # Zhengzhou, China\n",
    "    (30.901517035526773, 75.85838906910176), # Ludihana, India\n",
    "    (45.03728005401427, 38.974997420494596), # Krasnodar, Russia\n",
    "    (-33.89135694475014, -60.57281174239956), # Pergamino, Argentina\n",
    "    (28.235331625217775, 112.92502052929746), # Changsha, China\n",
    "    (22.578209269233493, 88.3600522992679), # Kolkata, India\n",
    "    (-6.9167400079749735, 107.61998238624201), # Bangdung, Indonesia\n",
    "    (55.76611673353855, 37.62160308473536), # Moscow, Russia\n",
    "    (52.158028390626185, -106.66956269182268), # Saskatoon, Canada\n",
    "    (-33.86605200565613, 151.195601470287), # Sydney, Australia\n",
    "    (-19.91948291035973, -43.943110737706746), # Belo Horizonte, Brazil\n",
    "    (12.668022378811369, 108.03800228713408), # Buon Ma Thot, Vietnam\n",
    "    (6.247273414666685, -75.56473290099956), # Medellin, Colombia\n",
    "    (4.758549757562983, -6.643381990584686), # San Pedro, Ivory Coast\n",
    "    (6.667214457444658, -1.6109803431888547), # Kumasi, Ghana\n",
    "    (-5.162091928417558, 119.43798624858383), # Makassar, Indonesia\n",
    "    (43.82762776918532, 87.61905395940317), # Urumqi, China\n",
    "    (23.029637272051755, 72.58384888080346), # Ahmedabad, India\n",
    "    (33.57838946952301, -101.85725664222603), # Lubbock, USA\n",
    "    (-21.16869931994159, -47.815160933419556), # Ribiero Preto, Brazil (x2)\n",
    "    (18.52492414066214, 73.85678412283815), # Pune, India\n",
    "    (13.765109257915768, 100.49778506193263), # Bangkok, Thailand\n",
    "    (28.538167830091528, -81.37494078901534), # Orlando, USA\n",
    "    (19.172690753314367, -96.13601049020042) # Veracruz, Mexico\n",
    "]"
   ]
  }
 ],
 "metadata": {
  "kernelspec": {
   "display_name": "Python 3",
   "language": "python",
   "name": "python3"
  },
  "language_info": {
   "name": "python",
   "version": "3.11.5"
  }
 },
 "nbformat": 4,
 "nbformat_minor": 2
}
