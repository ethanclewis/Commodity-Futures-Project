{
 "cells": [
  {
   "cell_type": "markdown",
   "metadata": {},
   "source": [
    "Sample code to...\n",
    "- Test connection to your MongoDB Project\n",
    "- Upload test ecords to a MongoDB Collection"
   ]
  },
  {
   "cell_type": "code",
   "execution_count": 1,
   "metadata": {},
   "outputs": [],
   "source": [
    "import pymongo\n",
    "from pymongo.mongo_client import MongoClient\n",
    "import certifi"
   ]
  },
  {
   "cell_type": "markdown",
   "metadata": {},
   "source": [
    "# Test Connection to Project"
   ]
  },
  {
   "cell_type": "code",
   "execution_count": 2,
   "metadata": {},
   "outputs": [
    {
     "name": "stdout",
     "output_type": "stream",
     "text": [
      "Pinged your deployment. You successfully connected to MongoDB!\n"
     ]
    }
   ],
   "source": [
    "uri = \"YOUR MONGO DB URI HERE\"\n",
    "\n",
    "# Create a new client and connect to the server\n",
    "client = MongoClient(uri, tlsCAFile=certifi.where())\n",
    "\n",
    "# Send a ping to confirm a successful connection\n",
    "try:\n",
    "    client.admin.command('ping')\n",
    "    print(\"Pinged your deployment. You successfully connected to MongoDB!\")\n",
    "except Exception as e:\n",
    "    print(e)"
   ]
  },
  {
   "cell_type": "markdown",
   "metadata": {},
   "source": [
    "# Insert Test Record to Collection"
   ]
  },
  {
   "cell_type": "code",
   "execution_count": 3,
   "metadata": {},
   "outputs": [],
   "source": [
    "uri = \"YOUR MONGO DB URI HERE\"\n",
    "\n",
    "client = MongoClient(uri, tlsCAFile=certifi.where()) # Create client\n",
    "db = client['TestDB'] # Select database (TestDB)\n",
    "collection = db['TestCollection'] # Select collection (TestCollection)\n",
    "\n",
    "data = [\n",
    "  { \"name\": \"Ethan\", \"relation\": \"Son\", \"age\": 24},\n",
    "  { \"name\": \"Jimmy\", \"relation\": \"Father\", \"age\": 59},\n",
    "  { \"name\": \"Kim\", \"relation\": \"Mother\", \"age\": 55},\n",
    "]\n",
    "\n",
    "x = collection.insert_many(data)"
   ]
  }
 ],
 "metadata": {
  "kernelspec": {
   "display_name": "Python 3",
   "language": "python",
   "name": "python3"
  },
  "language_info": {
   "codemirror_mode": {
    "name": "ipython",
    "version": 3
   },
   "file_extension": ".py",
   "mimetype": "text/x-python",
   "name": "python",
   "nbconvert_exporter": "python",
   "pygments_lexer": "ipython3",
   "version": "3.11.5"
  }
 },
 "nbformat": 4,
 "nbformat_minor": 2
}
