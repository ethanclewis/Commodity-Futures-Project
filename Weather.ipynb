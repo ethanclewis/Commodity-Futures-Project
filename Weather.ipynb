{
 "cells": [
  {
   "cell_type": "code",
   "execution_count": 1,
   "metadata": {},
   "outputs": [],
   "source": [
    "import requests"
   ]
  },
  {
   "cell_type": "code",
   "execution_count": null,
   "metadata": {},
   "outputs": [],
   "source": [
    "api_key = '1e027ac6f0a956c9e9ab6ce5f9561fa2'"
   ]
  },
  {
   "cell_type": "markdown",
   "metadata": {},
   "source": [
    "# **City by City**"
   ]
  },
  {
   "cell_type": "markdown",
   "metadata": {},
   "source": [
    "## 1. Corn"
   ]
  },
  {
   "cell_type": "markdown",
   "metadata": {},
   "source": [
    "### De Moines, USA (41.587874539133864, -93.62025172344258)"
   ]
  },
  {
   "cell_type": "markdown",
   "metadata": {},
   "source": [
    "### Harbin, China (45.75950681140235, 126.64857767018447)"
   ]
  },
  {
   "cell_type": "markdown",
   "metadata": {},
   "source": [
    "### Cuiaba, Brazil (-15.596205293870227, -56.09191831845166)"
   ]
  },
  {
   "cell_type": "markdown",
   "metadata": {},
   "source": [
    "## 2. Wheat"
   ]
  },
  {
   "cell_type": "markdown",
   "metadata": {},
   "source": [
    "### Zhengzhou, China (34.755190827740414, 113.64387122461706)"
   ]
  },
  {
   "cell_type": "markdown",
   "metadata": {},
   "source": [
    "### Ludihana, India (30.901517035526773, 75.85838906910176)"
   ]
  },
  {
   "cell_type": "markdown",
   "metadata": {},
   "source": [
    "### Krasnodar, Russia (45.03728005401427, 38.974997420494596)"
   ]
  },
  {
   "cell_type": "markdown",
   "metadata": {},
   "source": [
    "## 3. Soybeans"
   ]
  },
  {
   "cell_type": "markdown",
   "metadata": {},
   "source": [
    "### De Moines, USA (41.587874539133864, -93.62025172344258)"
   ]
  },
  {
   "cell_type": "markdown",
   "metadata": {},
   "source": [
    "### Cuiaba, Brazil (-15.596205293870227, -56.09191831845166)"
   ]
  },
  {
   "cell_type": "markdown",
   "metadata": {},
   "source": [
    "### Pergamino, Argentina (-33.89135694475014, -60.57281174239956)"
   ]
  },
  {
   "cell_type": "markdown",
   "metadata": {},
   "source": [
    "## 4. Rice"
   ]
  },
  {
   "cell_type": "markdown",
   "metadata": {},
   "source": [
    "### Changsha, China (28.235331625217775, 112.92502052929746)"
   ]
  },
  {
   "cell_type": "markdown",
   "metadata": {},
   "source": [
    "### Kolkata, India (22.578209269233493, 88.3600522992679)"
   ]
  },
  {
   "cell_type": "markdown",
   "metadata": {},
   "source": [
    "### Bangdung, Indonesia (-6.9167400079749735, 107.61998238624201)"
   ]
  },
  {
   "cell_type": "markdown",
   "metadata": {},
   "source": [
    "## 5. Oats"
   ]
  },
  {
   "cell_type": "markdown",
   "metadata": {},
   "source": [
    "### Moscow, Russia (55.76611673353855, 37.62160308473536)"
   ]
  },
  {
   "cell_type": "markdown",
   "metadata": {},
   "source": [
    "### Saskatoon, Canada (52.158028390626185, -106.66956269182268)"
   ]
  },
  {
   "cell_type": "markdown",
   "metadata": {},
   "source": [
    "### Sydney, Australia (-33.86605200565613, 151.195601470287)"
   ]
  },
  {
   "cell_type": "markdown",
   "metadata": {},
   "source": [
    "## 6. Coffee"
   ]
  },
  {
   "cell_type": "markdown",
   "metadata": {},
   "source": [
    "### Belo Horizonte, Brazil (-19.91948291035973, -43.943110737706746)"
   ]
  },
  {
   "cell_type": "markdown",
   "metadata": {},
   "source": [
    "### Buon Ma Thot, Vietnam (12.668022378811369, 108.03800228713408)"
   ]
  },
  {
   "cell_type": "markdown",
   "metadata": {},
   "source": [
    "### Medellin, Colombia (6.247273414666685, -75.56473290099956)"
   ]
  },
  {
   "cell_type": "markdown",
   "metadata": {},
   "source": [
    "## 7. Cocoa"
   ]
  },
  {
   "cell_type": "markdown",
   "metadata": {},
   "source": [
    "### San Pedro, Ivory Coast (4.758549757562983, -6.643381990584686)"
   ]
  },
  {
   "cell_type": "markdown",
   "metadata": {},
   "source": [
    "### Kumasi, Ghana (6.667214457444658, -1.6109803431888547)"
   ]
  },
  {
   "cell_type": "markdown",
   "metadata": {},
   "source": [
    "### Makassar, Indonesia (-5.162091928417558, 119.43798624858383)"
   ]
  },
  {
   "cell_type": "markdown",
   "metadata": {},
   "source": [
    "## 8. Cotton"
   ]
  },
  {
   "cell_type": "markdown",
   "metadata": {},
   "source": [
    "### Urumqi, China (43.82762776918532, 87.61905395940317)"
   ]
  },
  {
   "cell_type": "markdown",
   "metadata": {},
   "source": [
    "### Ahmedabad, India (23.029637272051755, 72.58384888080346)"
   ]
  },
  {
   "cell_type": "markdown",
   "metadata": {},
   "source": [
    "### Lubbock, USA (33.57838946952301, -101.85725664222603)"
   ]
  },
  {
   "cell_type": "markdown",
   "metadata": {},
   "source": [
    "## 9. Sugar"
   ]
  },
  {
   "cell_type": "markdown",
   "metadata": {},
   "source": [
    "### Ribiero Preto, Brazil (-21.16869931994159, -47.815160933419556)"
   ]
  },
  {
   "cell_type": "markdown",
   "metadata": {},
   "source": [
    "### Pune, India (18.52492414066214, 73.85678412283815)"
   ]
  },
  {
   "cell_type": "markdown",
   "metadata": {},
   "source": [
    "### Bangkok, Thailand (13.765109257915768, 100.49778506193263)"
   ]
  },
  {
   "cell_type": "markdown",
   "metadata": {},
   "source": [
    "## 10. Orange Juice"
   ]
  },
  {
   "cell_type": "markdown",
   "metadata": {},
   "source": [
    "### Ribiero Preto, Brazil (-21.16869931994159, -47.815160933419556)"
   ]
  },
  {
   "cell_type": "markdown",
   "metadata": {},
   "source": [
    "### Orlando, USA (28.538167830091528, -81.37494078901534)"
   ]
  },
  {
   "cell_type": "markdown",
   "metadata": {},
   "source": [
    "### Veracruz, Mexico (19.172690753314367, -96.13601049020042)"
   ]
  },
  {
   "cell_type": "markdown",
   "metadata": {},
   "source": [
    "# **Loop**"
   ]
  },
  {
   "cell_type": "code",
   "execution_count": 2,
   "metadata": {},
   "outputs": [],
   "source": [
    "# 27 Cities \n",
    "coordinates = [\n",
    "    (41.587874539133864, -93.62025172344258), # De Moines, USA (x2)\n",
    "    (45.75950681140235, 126.64857767018447), # Harbin, China\n",
    "    (-15.596205293870227, -56.09191831845166), # Cuiaba, Brazil (x2)\n",
    "    (34.755190827740414, 113.64387122461706), # Zhengzhou, China\n",
    "    (30.901517035526773, 75.85838906910176), # Ludihana, India\n",
    "    (45.03728005401427, 38.974997420494596), # Krasnodar, Russia\n",
    "    (-33.89135694475014, -60.57281174239956), # Pergamino, Argentina\n",
    "    (28.235331625217775, 112.92502052929746), # Changsha, China\n",
    "    (22.578209269233493, 88.3600522992679), # Kolkata, India\n",
    "    (-6.9167400079749735, 107.61998238624201), # Bangdung, Indonesia\n",
    "    (55.76611673353855, 37.62160308473536), # Moscow, Russia\n",
    "    (52.158028390626185, -106.66956269182268), # Saskatoon, Canada\n",
    "    (-33.86605200565613, 151.195601470287), # Sydney, Australia\n",
    "    (-19.91948291035973, -43.943110737706746), # Belo Horizonte, Brazil\n",
    "    (12.668022378811369, 108.03800228713408), # Buon Ma Thot, Vietnam\n",
    "    (6.247273414666685, -75.56473290099956), # Medellin, Colombia\n",
    "    (4.758549757562983, -6.643381990584686), # San Pedro, Ivory Coast\n",
    "    (6.667214457444658, -1.6109803431888547), # Kumasi, Ghana\n",
    "    (-5.162091928417558, 119.43798624858383), # Makassar, Indonesia\n",
    "    (43.82762776918532, 87.61905395940317), # Urumqi, China\n",
    "    (23.029637272051755, 72.58384888080346), # Ahmedabad, India\n",
    "    (33.57838946952301, -101.85725664222603), # Lubbock, USA\n",
    "    (-21.16869931994159, -47.815160933419556), # Ribiero Preto, Brazil (x2)\n",
    "    (18.52492414066214, 73.85678412283815), # Pune, India\n",
    "    (13.765109257915768, 100.49778506193263), # Bangkok, Thailand\n",
    "    (28.538167830091528, -81.37494078901534), # Orlando, USA\n",
    "    (19.172690753314367, -96.13601049020042) # Veracruz, Mexico\n",
    "]"
   ]
  },
  {
   "cell_type": "code",
   "execution_count": null,
   "metadata": {},
   "outputs": [],
   "source": []
  }
 ],
 "metadata": {
  "kernelspec": {
   "display_name": "Python 3",
   "language": "python",
   "name": "python3"
  },
  "language_info": {
   "codemirror_mode": {
    "name": "ipython",
    "version": 3
   },
   "file_extension": ".py",
   "mimetype": "text/x-python",
   "name": "python",
   "nbconvert_exporter": "python",
   "pygments_lexer": "ipython3",
   "version": "3.11.5"
  }
 },
 "nbformat": 4,
 "nbformat_minor": 2
}
